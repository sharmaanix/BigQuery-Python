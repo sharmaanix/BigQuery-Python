{
  "nbformat": 4,
  "nbformat_minor": 0,
  "metadata": {
    "colab": {
      "name": "RecSYS_suprise3.ipynb",
      "provenance": [],
      "collapsed_sections": [],
      "authorship_tag": "ABX9TyPZ3sPIUvvH3k8JLQ733GY5",
      "include_colab_link": true
    },
    "kernelspec": {
      "name": "python3",
      "display_name": "Python 3"
    }
  },
  "cells": [
    {
      "cell_type": "markdown",
      "metadata": {
        "id": "view-in-github",
        "colab_type": "text"
      },
      "source": [
        "<a href=\"https://colab.research.google.com/github/sharmaanix/BigQuery-Python/blob/master/notebook/RecSYS_suprise3.ipynb\" target=\"_parent\"><img src=\"https://colab.research.google.com/assets/colab-badge.svg\" alt=\"Open In Colab\"/></a>"
      ]
    },
    {
      "cell_type": "markdown",
      "metadata": {
        "id": "ZwkZS0FFl63c",
        "colab_type": "text"
      },
      "source": [
        "# Objective to do"
      ]
    },
    {
      "cell_type": "markdown",
      "metadata": {
        "id": "lcew4nOel9tv",
        "colab_type": "text"
      },
      "source": [
        "# Scaling the weight playcount"
      ]
    },
    {
      "cell_type": "markdown",
      "metadata": {
        "id": "nSYoSaVojkvi",
        "colab_type": "text"
      },
      "source": [
        "#### 1. MinMaxScaler - Scale the weight without distortion\n",
        "#### 2. RobustScaler - Better for the Outlier\n",
        "#### 3. StandardScaler - to have  distribution close to normal distribution"
      ]
    },
    {
      "cell_type": "markdown",
      "metadata": {
        "id": "urv0w7WL1VmK",
        "colab_type": "text"
      },
      "source": [
        "# Mount Driver"
      ]
    },
    {
      "cell_type": "code",
      "metadata": {
        "id": "_QUf7zdJ1Msp",
        "colab_type": "code",
        "outputId": "0a5452e3-4828-403e-d96d-f706f2f5f9c3",
        "colab": {
          "base_uri": "https://localhost:8080/",
          "height": 34
        }
      },
      "source": [
        "from google.colab import drive\n",
        "drive.mount('/content/drive')"
      ],
      "execution_count": 0,
      "outputs": [
        {
          "output_type": "stream",
          "text": [
            "Drive already mounted at /content/drive; to attempt to forcibly remount, call drive.mount(\"/content/drive\", force_remount=True).\n"
          ],
          "name": "stdout"
        }
      ]
    },
    {
      "cell_type": "markdown",
      "metadata": {
        "id": "VsXi_Pe9og6d",
        "colab_type": "text"
      },
      "source": [
        "# Import required library"
      ]
    },
    {
      "cell_type": "code",
      "metadata": {
        "id": "mSSU10tLeyNd",
        "colab_type": "code",
        "outputId": "5530193d-259d-4149-9cca-dc8e4250e92c",
        "colab": {
          "base_uri": "https://localhost:8080/",
          "height": 123
        }
      },
      "source": [
        "!pip install surprise"
      ],
      "execution_count": 0,
      "outputs": [
        {
          "output_type": "stream",
          "text": [
            "Requirement already satisfied: surprise in /usr/local/lib/python3.6/dist-packages (0.1)\n",
            "Requirement already satisfied: scikit-surprise in /usr/local/lib/python3.6/dist-packages (from surprise) (1.1.0)\n",
            "Requirement already satisfied: scipy>=1.0.0 in /usr/local/lib/python3.6/dist-packages (from scikit-surprise->surprise) (1.4.1)\n",
            "Requirement already satisfied: six>=1.10.0 in /usr/local/lib/python3.6/dist-packages (from scikit-surprise->surprise) (1.12.0)\n",
            "Requirement already satisfied: numpy>=1.11.2 in /usr/local/lib/python3.6/dist-packages (from scikit-surprise->surprise) (1.17.5)\n",
            "Requirement already satisfied: joblib>=0.11 in /usr/local/lib/python3.6/dist-packages (from scikit-surprise->surprise) (0.14.1)\n"
          ],
          "name": "stdout"
        }
      ]
    },
    {
      "cell_type": "code",
      "metadata": {
        "id": "jlamxtA-ojcv",
        "colab_type": "code",
        "colab": {}
      },
      "source": [
        "import numpy as np\n",
        "import pandas as pd\n",
        "import seaborn as sns\n",
        "import matplotlib.pyplot as plt\n",
        "from scipy.stats import skew, kurtosis\n",
        "from sklearn.preprocessing import MinMaxScaler, RobustScaler, StandardScaler\n",
        "\n",
        "from surprise import Dataset, Reader\n",
        "from surprise.model_selection import cross_validate\n",
        "from surprise import SVD, SVDpp, SlopeOne, NMF, NormalPredictor, KNNBaseline, KNNBasic, KNNWithMeans, KNNWithZScore, BaselineOnly, CoClustering, NormalPredictor"
      ],
      "execution_count": 0,
      "outputs": []
    },
    {
      "cell_type": "code",
      "metadata": {
        "id": "WDabjLbYowAv",
        "colab_type": "code",
        "colab": {}
      },
      "source": [
        "%matplotlib inline"
      ],
      "execution_count": 0,
      "outputs": []
    },
    {
      "cell_type": "code",
      "metadata": {
        "id": "nrKQwmyZ1UqG",
        "colab_type": "code",
        "outputId": "7052ba62-c0a3-4a1f-f2ed-89e0b851399c",
        "colab": {
          "base_uri": "https://localhost:8080/",
          "height": 34
        }
      },
      "source": [
        "cd drive/My\\ Drive/lastfm_dataset"
      ],
      "execution_count": 0,
      "outputs": [
        {
          "output_type": "stream",
          "text": [
            "/content/drive/My Drive/lastfm_dataset\n"
          ],
          "name": "stdout"
        }
      ]
    },
    {
      "cell_type": "code",
      "metadata": {
        "id": "441bCvLg1ihZ",
        "colab_type": "code",
        "outputId": "df9dca6e-7b71-4f28-93fb-e9127e31477c",
        "colab": {
          "base_uri": "https://localhost:8080/",
          "height": 70
        }
      },
      "source": [
        "!ls"
      ],
      "execution_count": 0,
      "outputs": [
        {
          "output_type": "stream",
          "text": [
            "artists.dat  user_artists.dat\t     user_taggedartists-timestamps.dat\n",
            "readme.txt   user_friends.dat\n",
            "tags.dat     user_taggedartists.dat\n"
          ],
          "name": "stdout"
        }
      ]
    },
    {
      "cell_type": "code",
      "metadata": {
        "id": "HJArY-E3p73J",
        "colab_type": "code",
        "colab": {}
      },
      "source": [
        "user_artist = pd.read_csv('user_artists.dat', sep='\\t')"
      ],
      "execution_count": 0,
      "outputs": []
    },
    {
      "cell_type": "code",
      "metadata": {
        "id": "0M1Fj3_Jp_SR",
        "colab_type": "code",
        "outputId": "24f78dbd-c9f7-477d-8103-d65a00f09f72",
        "colab": {
          "base_uri": "https://localhost:8080/",
          "height": 197
        }
      },
      "source": [
        "user_artist.head()"
      ],
      "execution_count": 0,
      "outputs": [
        {
          "output_type": "execute_result",
          "data": {
            "text/html": [
              "<div>\n",
              "<style scoped>\n",
              "    .dataframe tbody tr th:only-of-type {\n",
              "        vertical-align: middle;\n",
              "    }\n",
              "\n",
              "    .dataframe tbody tr th {\n",
              "        vertical-align: top;\n",
              "    }\n",
              "\n",
              "    .dataframe thead th {\n",
              "        text-align: right;\n",
              "    }\n",
              "</style>\n",
              "<table border=\"1\" class=\"dataframe\">\n",
              "  <thead>\n",
              "    <tr style=\"text-align: right;\">\n",
              "      <th></th>\n",
              "      <th>userID</th>\n",
              "      <th>artistID</th>\n",
              "      <th>weight</th>\n",
              "    </tr>\n",
              "  </thead>\n",
              "  <tbody>\n",
              "    <tr>\n",
              "      <th>0</th>\n",
              "      <td>2</td>\n",
              "      <td>51</td>\n",
              "      <td>13883</td>\n",
              "    </tr>\n",
              "    <tr>\n",
              "      <th>1</th>\n",
              "      <td>2</td>\n",
              "      <td>52</td>\n",
              "      <td>11690</td>\n",
              "    </tr>\n",
              "    <tr>\n",
              "      <th>2</th>\n",
              "      <td>2</td>\n",
              "      <td>53</td>\n",
              "      <td>11351</td>\n",
              "    </tr>\n",
              "    <tr>\n",
              "      <th>3</th>\n",
              "      <td>2</td>\n",
              "      <td>54</td>\n",
              "      <td>10300</td>\n",
              "    </tr>\n",
              "    <tr>\n",
              "      <th>4</th>\n",
              "      <td>2</td>\n",
              "      <td>55</td>\n",
              "      <td>8983</td>\n",
              "    </tr>\n",
              "  </tbody>\n",
              "</table>\n",
              "</div>"
            ],
            "text/plain": [
              "   userID  artistID  weight\n",
              "0       2        51   13883\n",
              "1       2        52   11690\n",
              "2       2        53   11351\n",
              "3       2        54   10300\n",
              "4       2        55    8983"
            ]
          },
          "metadata": {
            "tags": []
          },
          "execution_count": 8
        }
      ]
    },
    {
      "cell_type": "code",
      "metadata": {
        "id": "dPnQe9NhfL88",
        "colab_type": "code",
        "colab": {}
      },
      "source": [
        "total_algorithm = {'SVD' : SVD(), 'SVDpp' : SVDpp(), 'KNNBaseline' : KNNBaseline(), 'KNNBasic' : KNNBasic(), 'KNNWithMeans' : KNNWithMeans(), 'KNNWithZScore' : KNNWithZScore(), \n",
        "                   'CoClustering' : CoClustering(), 'BaselineOnly' : BaselineOnly(), 'NormalPredictor' : NormalPredictor()}"
      ],
      "execution_count": 0,
      "outputs": []
    },
    {
      "cell_type": "code",
      "metadata": {
        "id": "Yyq97mZhfSw1",
        "colab_type": "code",
        "colab": {}
      },
      "source": [
        "def model_train_evaluate(total_algorithm, surprise_data, weight_type):\n",
        "  for idx,algorithm in enumerate(total_algorithm):\n",
        "    print(algorithm)\n",
        "    result = cross_validate(total_algorithm[algorithm], surprise_data, cv=5)\n",
        "    temp_df = pd.DataFrame(result.values()).T\n",
        "    temp_df.columns = list(result.keys())\n",
        "    temp_df['algorithm'] = algorithm\n",
        "\n",
        "    if idx == 0:\n",
        "      result_df = temp_df\n",
        "    else:\n",
        "      result_df = result_df.append(temp_df,ignore_index=True)\n",
        "\n",
        "    result_df['weight_type'] = weight_type\n",
        "    \n",
        "  return result_df"
      ],
      "execution_count": 0,
      "outputs": []
    },
    {
      "cell_type": "markdown",
      "metadata": {
        "id": "lyydO1YPqCv-",
        "colab_type": "text"
      },
      "source": [
        "# Suprise recommendation Engine using MinMaxScaler"
      ]
    },
    {
      "cell_type": "code",
      "metadata": {
        "id": "SgCQ7idSkapD",
        "colab_type": "code",
        "outputId": "5072a9d9-d451-4b1c-80f7-13d1ed9209f9",
        "colab": {
          "base_uri": "https://localhost:8080/",
          "height": 197
        }
      },
      "source": [
        "user_artist.head()"
      ],
      "execution_count": 0,
      "outputs": [
        {
          "output_type": "execute_result",
          "data": {
            "text/html": [
              "<div>\n",
              "<style scoped>\n",
              "    .dataframe tbody tr th:only-of-type {\n",
              "        vertical-align: middle;\n",
              "    }\n",
              "\n",
              "    .dataframe tbody tr th {\n",
              "        vertical-align: top;\n",
              "    }\n",
              "\n",
              "    .dataframe thead th {\n",
              "        text-align: right;\n",
              "    }\n",
              "</style>\n",
              "<table border=\"1\" class=\"dataframe\">\n",
              "  <thead>\n",
              "    <tr style=\"text-align: right;\">\n",
              "      <th></th>\n",
              "      <th>userID</th>\n",
              "      <th>artistID</th>\n",
              "      <th>weight</th>\n",
              "    </tr>\n",
              "  </thead>\n",
              "  <tbody>\n",
              "    <tr>\n",
              "      <th>0</th>\n",
              "      <td>2</td>\n",
              "      <td>51</td>\n",
              "      <td>13883</td>\n",
              "    </tr>\n",
              "    <tr>\n",
              "      <th>1</th>\n",
              "      <td>2</td>\n",
              "      <td>52</td>\n",
              "      <td>11690</td>\n",
              "    </tr>\n",
              "    <tr>\n",
              "      <th>2</th>\n",
              "      <td>2</td>\n",
              "      <td>53</td>\n",
              "      <td>11351</td>\n",
              "    </tr>\n",
              "    <tr>\n",
              "      <th>3</th>\n",
              "      <td>2</td>\n",
              "      <td>54</td>\n",
              "      <td>10300</td>\n",
              "    </tr>\n",
              "    <tr>\n",
              "      <th>4</th>\n",
              "      <td>2</td>\n",
              "      <td>55</td>\n",
              "      <td>8983</td>\n",
              "    </tr>\n",
              "  </tbody>\n",
              "</table>\n",
              "</div>"
            ],
            "text/plain": [
              "   userID  artistID  weight\n",
              "0       2        51   13883\n",
              "1       2        52   11690\n",
              "2       2        53   11351\n",
              "3       2        54   10300\n",
              "4       2        55    8983"
            ]
          },
          "metadata": {
            "tags": []
          },
          "execution_count": 11
        }
      ]
    },
    {
      "cell_type": "code",
      "metadata": {
        "id": "d8wvwMxSbhYV",
        "colab_type": "code",
        "colab": {}
      },
      "source": [
        "SCALING_FACTOR = 10"
      ],
      "execution_count": 0,
      "outputs": []
    },
    {
      "cell_type": "code",
      "metadata": {
        "id": "5Rp-nk1jkkx_",
        "colab_type": "code",
        "colab": {}
      },
      "source": [
        "minmax_scale = MinMaxScaler()"
      ],
      "execution_count": 0,
      "outputs": []
    },
    {
      "cell_type": "code",
      "metadata": {
        "id": "yPNrU-PukwLT",
        "colab_type": "code",
        "colab": {}
      },
      "source": [
        "user_artist['minmax_scale'] = minmax_scale.fit_transform(np.array(user_artist['weight']).reshape(-1,1)).reshape(1,-1)[0]*SCALING_FACTOR"
      ],
      "execution_count": 0,
      "outputs": []
    },
    {
      "cell_type": "code",
      "metadata": {
        "id": "Z2Sr4VCilRva",
        "colab_type": "code",
        "outputId": "57a989d9-59a1-4831-fade-e5766266fec7",
        "colab": {
          "base_uri": "https://localhost:8080/",
          "height": 197
        }
      },
      "source": [
        "user_artist.head()"
      ],
      "execution_count": 0,
      "outputs": [
        {
          "output_type": "execute_result",
          "data": {
            "text/html": [
              "<div>\n",
              "<style scoped>\n",
              "    .dataframe tbody tr th:only-of-type {\n",
              "        vertical-align: middle;\n",
              "    }\n",
              "\n",
              "    .dataframe tbody tr th {\n",
              "        vertical-align: top;\n",
              "    }\n",
              "\n",
              "    .dataframe thead th {\n",
              "        text-align: right;\n",
              "    }\n",
              "</style>\n",
              "<table border=\"1\" class=\"dataframe\">\n",
              "  <thead>\n",
              "    <tr style=\"text-align: right;\">\n",
              "      <th></th>\n",
              "      <th>userID</th>\n",
              "      <th>artistID</th>\n",
              "      <th>weight</th>\n",
              "      <th>minmax_scale</th>\n",
              "    </tr>\n",
              "  </thead>\n",
              "  <tbody>\n",
              "    <tr>\n",
              "      <th>0</th>\n",
              "      <td>2</td>\n",
              "      <td>51</td>\n",
              "      <td>13883</td>\n",
              "      <td>0.393596</td>\n",
              "    </tr>\n",
              "    <tr>\n",
              "      <th>1</th>\n",
              "      <td>2</td>\n",
              "      <td>52</td>\n",
              "      <td>11690</td>\n",
              "      <td>0.331418</td>\n",
              "    </tr>\n",
              "    <tr>\n",
              "      <th>2</th>\n",
              "      <td>2</td>\n",
              "      <td>53</td>\n",
              "      <td>11351</td>\n",
              "      <td>0.321806</td>\n",
              "    </tr>\n",
              "    <tr>\n",
              "      <th>3</th>\n",
              "      <td>2</td>\n",
              "      <td>54</td>\n",
              "      <td>10300</td>\n",
              "      <td>0.292007</td>\n",
              "    </tr>\n",
              "    <tr>\n",
              "      <th>4</th>\n",
              "      <td>2</td>\n",
              "      <td>55</td>\n",
              "      <td>8983</td>\n",
              "      <td>0.254666</td>\n",
              "    </tr>\n",
              "  </tbody>\n",
              "</table>\n",
              "</div>"
            ],
            "text/plain": [
              "   userID  artistID  weight  minmax_scale\n",
              "0       2        51   13883      0.393596\n",
              "1       2        52   11690      0.331418\n",
              "2       2        53   11351      0.321806\n",
              "3       2        54   10300      0.292007\n",
              "4       2        55    8983      0.254666"
            ]
          },
          "metadata": {
            "tags": []
          },
          "execution_count": 15
        }
      ]
    },
    {
      "cell_type": "code",
      "metadata": {
        "id": "S7L2rWpfqTPG",
        "colab_type": "code",
        "outputId": "b63e39f8-c622-4e68-c677-f4ec426e419f",
        "colab": {
          "base_uri": "https://localhost:8080/",
          "height": 374
        }
      },
      "source": [
        "plt.figure(figsize=(30,6))\n",
        "sns.kdeplot(user_artist['minmax_scale'])\n",
        "plt.grid()"
      ],
      "execution_count": 0,
      "outputs": [
        {
          "output_type": "display_data",
          "data": {
            "image/png": "[encoded data removed]",
            "text/plain": [
              "<Figure size 2160x432 with 1 Axes>"
            ]
          },
          "metadata": {
            "tags": []
          }
        }
      ]
    },
    {
      "cell_type": "code",
      "metadata": {
        "id": "9sNPDGs0qXm-",
        "colab_type": "code",
        "outputId": "22fea2e5-712a-4c8e-e71b-717924681dce",
        "colab": {
          "base_uri": "https://localhost:8080/",
          "height": 34
        }
      },
      "source": [
        "skew(user_artist['minmax_scale']), kurtosis(user_artist['minmax_scale'])"
      ],
      "execution_count": 0,
      "outputs": [
        {
          "output_type": "execute_result",
          "data": {
            "text/plain": [
              "(43.26901867955808, 2893.5831680519423)"
            ]
          },
          "metadata": {
            "tags": []
          },
          "execution_count": 17
        }
      ]
    },
    {
      "cell_type": "code",
      "metadata": {
        "id": "x-YW311QqkEa",
        "colab_type": "code",
        "colab": {}
      },
      "source": [
        "scale = user_artist['minmax_scale'].min(), user_artist['minmax_scale'].max()"
      ],
      "execution_count": 0,
      "outputs": []
    },
    {
      "cell_type": "code",
      "metadata": {
        "id": "kCp9kZM6qm1v",
        "colab_type": "code",
        "outputId": "b432352f-f733-407b-de10-db5a1e99e231",
        "colab": {
          "base_uri": "https://localhost:8080/",
          "height": 34
        }
      },
      "source": [
        "scale"
      ],
      "execution_count": 0,
      "outputs": [
        {
          "output_type": "execute_result",
          "data": {
            "text/plain": [
              "(0.0, 10.0)"
            ]
          },
          "metadata": {
            "tags": []
          },
          "execution_count": 19
        }
      ]
    },
    {
      "cell_type": "code",
      "metadata": {
        "id": "u2hTRhe4qpSN",
        "colab_type": "code",
        "outputId": "70f9a05a-fa8c-45dc-89c2-9c945cefabfe",
        "colab": {
          "base_uri": "https://localhost:8080/",
          "height": 197
        }
      },
      "source": [
        "user_artist.head()"
      ],
      "execution_count": 0,
      "outputs": [
        {
          "output_type": "execute_result",
          "data": {
            "text/html": [
              "<div>\n",
              "<style scoped>\n",
              "    .dataframe tbody tr th:only-of-type {\n",
              "        vertical-align: middle;\n",
              "    }\n",
              "\n",
              "    .dataframe tbody tr th {\n",
              "        vertical-align: top;\n",
              "    }\n",
              "\n",
              "    .dataframe thead th {\n",
              "        text-align: right;\n",
              "    }\n",
              "</style>\n",
              "<table border=\"1\" class=\"dataframe\">\n",
              "  <thead>\n",
              "    <tr style=\"text-align: right;\">\n",
              "      <th></th>\n",
              "      <th>userID</th>\n",
              "      <th>artistID</th>\n",
              "      <th>weight</th>\n",
              "      <th>minmax_scale</th>\n",
              "    </tr>\n",
              "  </thead>\n",
              "  <tbody>\n",
              "    <tr>\n",
              "      <th>0</th>\n",
              "      <td>2</td>\n",
              "      <td>51</td>\n",
              "      <td>13883</td>\n",
              "      <td>0.393596</td>\n",
              "    </tr>\n",
              "    <tr>\n",
              "      <th>1</th>\n",
              "      <td>2</td>\n",
              "      <td>52</td>\n",
              "      <td>11690</td>\n",
              "      <td>0.331418</td>\n",
              "    </tr>\n",
              "    <tr>\n",
              "      <th>2</th>\n",
              "      <td>2</td>\n",
              "      <td>53</td>\n",
              "      <td>11351</td>\n",
              "      <td>0.321806</td>\n",
              "    </tr>\n",
              "    <tr>\n",
              "      <th>3</th>\n",
              "      <td>2</td>\n",
              "      <td>54</td>\n",
              "      <td>10300</td>\n",
              "      <td>0.292007</td>\n",
              "    </tr>\n",
              "    <tr>\n",
              "      <th>4</th>\n",
              "      <td>2</td>\n",
              "      <td>55</td>\n",
              "      <td>8983</td>\n",
              "      <td>0.254666</td>\n",
              "    </tr>\n",
              "  </tbody>\n",
              "</table>\n",
              "</div>"
            ],
            "text/plain": [
              "   userID  artistID  weight  minmax_scale\n",
              "0       2        51   13883      0.393596\n",
              "1       2        52   11690      0.331418\n",
              "2       2        53   11351      0.321806\n",
              "3       2        54   10300      0.292007\n",
              "4       2        55    8983      0.254666"
            ]
          },
          "metadata": {
            "tags": []
          },
          "execution_count": 20
        }
      ]
    },
    {
      "cell_type": "code",
      "metadata": {
        "id": "1YALiIVnsQa6",
        "colab_type": "code",
        "colab": {}
      },
      "source": [
        "data_minmax = Dataset.load_from_df(user_artist.drop(columns=['weight']), reader= Reader(rating_scale= scale))"
      ],
      "execution_count": 0,
      "outputs": []
    },
    {
      "cell_type": "code",
      "metadata": {
        "id": "IXu8Vi0vsW9t",
        "colab_type": "code",
        "outputId": "7b4ee182-62da-48f3-e93c-2ada3045d01f",
        "colab": {
          "base_uri": "https://localhost:8080/",
          "height": 1000
        }
      },
      "source": [
        "eval_minmax = model_train_evaluate(total_algorithm, data_minmax, 'minmax_scale')"
      ],
      "execution_count": 0,
      "outputs": [
        {
          "output_type": "stream",
          "text": [
            "SVD\n",
            "SVDpp\n"
          ],
          "name": "stdout"
        },
        {
          "output_type": "stream",
          "text": [
            "/usr/local/lib/python3.6/dist-packages/pandas/core/frame.py:7138: FutureWarning: Sorting because non-concatenation axis is not aligned. A future version\n",
            "of pandas will change to not sort by default.\n",
            "\n",
            "To accept the future behavior, pass 'sort=False'.\n",
            "\n",
            "To retain the current behavior and silence the warning, pass 'sort=True'.\n",
            "\n",
            "  sort=sort,\n"
          ],
          "name": "stderr"
        },
        {
          "output_type": "stream",
          "text": [
            "KNNBaseline\n",
            "Estimating biases using als...\n",
            "Computing the msd similarity matrix...\n",
            "Done computing similarity matrix.\n",
            "Estimating biases using als...\n",
            "Computing the msd similarity matrix...\n",
            "Done computing similarity matrix.\n",
            "Estimating biases using als...\n",
            "Computing the msd similarity matrix...\n",
            "Done computing similarity matrix.\n",
            "Estimating biases using als...\n",
            "Computing the msd similarity matrix...\n",
            "Done computing similarity matrix.\n",
            "Estimating biases using als...\n",
            "Computing the msd similarity matrix...\n",
            "Done computing similarity matrix.\n",
            "KNNBasic\n",
            "Computing the msd similarity matrix...\n",
            "Done computing similarity matrix.\n",
            "Computing the msd similarity matrix...\n",
            "Done computing similarity matrix.\n",
            "Computing the msd similarity matrix...\n",
            "Done computing similarity matrix.\n",
            "Computing the msd similarity matrix...\n",
            "Done computing similarity matrix.\n",
            "Computing the msd similarity matrix...\n",
            "Done computing similarity matrix.\n",
            "KNNWithMeans\n",
            "Computing the msd similarity matrix...\n",
            "Done computing similarity matrix.\n",
            "Computing the msd similarity matrix...\n",
            "Done computing similarity matrix.\n",
            "Computing the msd similarity matrix...\n",
            "Done computing similarity matrix.\n",
            "Computing the msd similarity matrix...\n",
            "Done computing similarity matrix.\n",
            "Computing the msd similarity matrix...\n",
            "Done computing similarity matrix.\n",
            "KNNWithZScore\n",
            "Computing the msd similarity matrix...\n",
            "Done computing similarity matrix.\n",
            "Computing the msd similarity matrix...\n",
            "Done computing similarity matrix.\n",
            "Computing the msd similarity matrix...\n",
            "Done computing similarity matrix.\n",
            "Computing the msd similarity matrix...\n",
            "Done computing similarity matrix.\n",
            "Computing the msd similarity matrix...\n",
            "Done computing similarity matrix.\n",
            "CoClustering\n",
            "BaselineOnly\n",
            "Estimating biases using als...\n",
            "Estimating biases using als...\n",
            "Estimating biases using als...\n",
            "Estimating biases using als...\n",
            "Estimating biases using als...\n",
            "NormalPredictor\n"
          ],
          "name": "stdout"
        }
      ]
    },
    {
      "cell_type": "code",
      "metadata": {
        "id": "HrtWrHUEtyYr",
        "colab_type": "code",
        "outputId": "052906a6-1701-4c65-ff73-0cde84efeb4b",
        "colab": {
          "base_uri": "https://localhost:8080/",
          "height": 347
        }
      },
      "source": [
        "eval_minmax.groupby('algorithm').mean()"
      ],
      "execution_count": 0,
      "outputs": [
        {
          "output_type": "execute_result",
          "data": {
            "text/html": [
              "<div>\n",
              "<style scoped>\n",
              "    .dataframe tbody tr th:only-of-type {\n",
              "        vertical-align: middle;\n",
              "    }\n",
              "\n",
              "    .dataframe tbody tr th {\n",
              "        vertical-align: top;\n",
              "    }\n",
              "\n",
              "    .dataframe thead th {\n",
              "        text-align: right;\n",
              "    }\n",
              "</style>\n",
              "<table border=\"1\" class=\"dataframe\">\n",
              "  <thead>\n",
              "    <tr style=\"text-align: right;\">\n",
              "      <th></th>\n",
              "      <th>fit_time</th>\n",
              "      <th>test_mae</th>\n",
              "      <th>test_rmse</th>\n",
              "      <th>test_time</th>\n",
              "    </tr>\n",
              "    <tr>\n",
              "      <th>algorithm</th>\n",
              "      <th></th>\n",
              "      <th></th>\n",
              "      <th></th>\n",
              "      <th></th>\n",
              "    </tr>\n",
              "  </thead>\n",
              "  <tbody>\n",
              "    <tr>\n",
              "      <th>BaselineOnly</th>\n",
              "      <td>0.132743</td>\n",
              "      <td>0.019778</td>\n",
              "      <td>0.103438</td>\n",
              "      <td>0.107462</td>\n",
              "    </tr>\n",
              "    <tr>\n",
              "      <th>CoClustering</th>\n",
              "      <td>2.103077</td>\n",
              "      <td>0.022677</td>\n",
              "      <td>0.118479</td>\n",
              "      <td>0.080075</td>\n",
              "    </tr>\n",
              "    <tr>\n",
              "      <th>KNNBaseline</th>\n",
              "      <td>0.400216</td>\n",
              "      <td>0.020023</td>\n",
              "      <td>0.103608</td>\n",
              "      <td>1.699127</td>\n",
              "    </tr>\n",
              "    <tr>\n",
              "      <th>KNNBasic</th>\n",
              "      <td>0.278551</td>\n",
              "      <td>0.022509</td>\n",
              "      <td>0.106072</td>\n",
              "      <td>1.349892</td>\n",
              "    </tr>\n",
              "    <tr>\n",
              "      <th>KNNWithMeans</th>\n",
              "      <td>0.308605</td>\n",
              "      <td>0.021789</td>\n",
              "      <td>0.104091</td>\n",
              "      <td>1.472455</td>\n",
              "    </tr>\n",
              "    <tr>\n",
              "      <th>KNNWithZScore</th>\n",
              "      <td>0.373103</td>\n",
              "      <td>0.020925</td>\n",
              "      <td>0.110885</td>\n",
              "      <td>1.629698</td>\n",
              "    </tr>\n",
              "    <tr>\n",
              "      <th>NormalPredictor</th>\n",
              "      <td>0.096028</td>\n",
              "      <td>0.059396</td>\n",
              "      <td>0.130394</td>\n",
              "      <td>0.149555</td>\n",
              "    </tr>\n",
              "    <tr>\n",
              "      <th>SVD</th>\n",
              "      <td>3.820886</td>\n",
              "      <td>0.043865</td>\n",
              "      <td>0.116026</td>\n",
              "      <td>0.147570</td>\n",
              "    </tr>\n",
              "    <tr>\n",
              "      <th>SVDpp</th>\n",
              "      <td>36.229042</td>\n",
              "      <td>0.029452</td>\n",
              "      <td>0.105667</td>\n",
              "      <td>0.781669</td>\n",
              "    </tr>\n",
              "  </tbody>\n",
              "</table>\n",
              "</div>"
            ],
            "text/plain": [
              "                  fit_time  test_mae  test_rmse  test_time\n",
              "algorithm                                                 \n",
              "BaselineOnly      0.132743  0.019778   0.103438   0.107462\n",
              "CoClustering      2.103077  0.022677   0.118479   0.080075\n",
              "KNNBaseline       0.400216  0.020023   0.103608   1.699127\n",
              "KNNBasic          0.278551  0.022509   0.106072   1.349892\n",
              "KNNWithMeans      0.308605  0.021789   0.104091   1.472455\n",
              "KNNWithZScore     0.373103  0.020925   0.110885   1.629698\n",
              "NormalPredictor   0.096028  0.059396   0.130394   0.149555\n",
              "SVD               3.820886  0.043865   0.116026   0.147570\n",
              "SVDpp            36.229042  0.029452   0.105667   0.781669"
            ]
          },
          "metadata": {
            "tags": []
          },
          "execution_count": 23
        }
      ]
    },
    {
      "cell_type": "markdown",
      "metadata": {
        "id": "BuM2eoyLuD_o",
        "colab_type": "text"
      },
      "source": [
        "# Scaled Logarithmic recommendation Engine"
      ]
    },
    {
      "cell_type": "code",
      "metadata": {
        "id": "UjdrA9a6L2_a",
        "colab_type": "code",
        "colab": {}
      },
      "source": [
        "user_artist['log_weight'] = np.log(user_artist['weight'])"
      ],
      "execution_count": 0,
      "outputs": []
    },
    {
      "cell_type": "code",
      "metadata": {
        "id": "1L10U1yuPEX6",
        "colab_type": "code",
        "outputId": "2fd3de2c-0dfe-46de-bf70-707194fb00d6",
        "colab": {
          "base_uri": "https://localhost:8080/",
          "height": 34
        }
      },
      "source": [
        "skew(user_artist['log_weight']), kurtosis(user_artist['log_weight'])"
      ],
      "execution_count": 0,
      "outputs": [
        {
          "output_type": "execute_result",
          "data": {
            "text/plain": [
              "(-0.5031603419793773, 1.3369565746759697)"
            ]
          },
          "metadata": {
            "tags": []
          },
          "execution_count": 25
        }
      ]
    },
    {
      "cell_type": "code",
      "metadata": {
        "id": "y2LS8Pm2WyBm",
        "colab_type": "code",
        "outputId": "2d69cc33-07b3-4712-e3ff-28f840ea4875",
        "colab": {
          "base_uri": "https://localhost:8080/",
          "height": 374
        }
      },
      "source": [
        "plt.figure(figsize=(30,6))\n",
        "sns.kdeplot(user_artist['log_weight'])\n",
        "plt.grid()"
      ],
      "execution_count": 0,
      "outputs": [
        {
          "output_type": "display_data",
          "data": {
            "image/png": "[encoded data removed]",
            "text/plain": [
              "<Figure size 2160x432 with 1 Axes>"
            ]
          },
          "metadata": {
            "tags": []
          }
        }
      ]
    },
    {
      "cell_type": "code",
      "metadata": {
        "id": "_C_OUe5jumkm",
        "colab_type": "code",
        "colab": {}
      },
      "source": [
        "user_artist['log_minmax'] = minmax_scale.fit_transform(np.array(user_artist['log_weight']).reshape(-1,1)).reshape(1,-1)[0]*SCALING_FACTOR"
      ],
      "execution_count": 0,
      "outputs": []
    },
    {
      "cell_type": "code",
      "metadata": {
        "id": "ucvbVNsrwmst",
        "colab_type": "code",
        "outputId": "d6e308de-a53a-4b16-b295-03061d808474",
        "colab": {
          "base_uri": "https://localhost:8080/",
          "height": 34
        }
      },
      "source": [
        "skew(user_artist['log_minmax']), kurtosis(user_artist['log_minmax'])"
      ],
      "execution_count": 0,
      "outputs": [
        {
          "output_type": "execute_result",
          "data": {
            "text/plain": [
              "(-0.5031603419793795, 1.3369565746759697)"
            ]
          },
          "metadata": {
            "tags": []
          },
          "execution_count": 28
        }
      ]
    },
    {
      "cell_type": "code",
      "metadata": {
        "id": "RJDEmFLswzbV",
        "colab_type": "code",
        "outputId": "e5694d68-5174-4d78-84af-c66d4b24a341",
        "colab": {
          "base_uri": "https://localhost:8080/",
          "height": 374
        }
      },
      "source": [
        "plt.figure(figsize=(30,6))\n",
        "sns.kdeplot(user_artist['log_minmax'])\n",
        "plt.grid()"
      ],
      "execution_count": 0,
      "outputs": [
        {
          "output_type": "display_data",
          "data": {
            "image/png": "[encoded data removed]",
            "text/plain": [
              "<Figure size 2160x432 with 1 Axes>"
            ]
          },
          "metadata": {
            "tags": []
          }
        }
      ]
    },
    {
      "cell_type": "code",
      "metadata": {
        "id": "E2Dh5jMbMwC5",
        "colab_type": "code",
        "outputId": "b58d8142-4f63-4dfe-d836-669f0f98b23d",
        "colab": {
          "base_uri": "https://localhost:8080/",
          "height": 197
        }
      },
      "source": [
        "user_artist.head()"
      ],
      "execution_count": 0,
      "outputs": [
        {
          "output_type": "execute_result",
          "data": {
            "text/html": [
              "<div>\n",
              "<style scoped>\n",
              "    .dataframe tbody tr th:only-of-type {\n",
              "        vertical-align: middle;\n",
              "    }\n",
              "\n",
              "    .dataframe tbody tr th {\n",
              "        vertical-align: top;\n",
              "    }\n",
              "\n",
              "    .dataframe thead th {\n",
              "        text-align: right;\n",
              "    }\n",
              "</style>\n",
              "<table border=\"1\" class=\"dataframe\">\n",
              "  <thead>\n",
              "    <tr style=\"text-align: right;\">\n",
              "      <th></th>\n",
              "      <th>userID</th>\n",
              "      <th>artistID</th>\n",
              "      <th>weight</th>\n",
              "      <th>minmax_scale</th>\n",
              "      <th>log_weight</th>\n",
              "      <th>log_minmax</th>\n",
              "    </tr>\n",
              "  </thead>\n",
              "  <tbody>\n",
              "    <tr>\n",
              "      <th>0</th>\n",
              "      <td>2</td>\n",
              "      <td>51</td>\n",
              "      <td>13883</td>\n",
              "      <td>0.393596</td>\n",
              "      <td>9.538420</td>\n",
              "      <td>7.467428</td>\n",
              "    </tr>\n",
              "    <tr>\n",
              "      <th>1</th>\n",
              "      <td>2</td>\n",
              "      <td>52</td>\n",
              "      <td>11690</td>\n",
              "      <td>0.331418</td>\n",
              "      <td>9.366489</td>\n",
              "      <td>7.332827</td>\n",
              "    </tr>\n",
              "    <tr>\n",
              "      <th>2</th>\n",
              "      <td>2</td>\n",
              "      <td>53</td>\n",
              "      <td>11351</td>\n",
              "      <td>0.321806</td>\n",
              "      <td>9.337061</td>\n",
              "      <td>7.309788</td>\n",
              "    </tr>\n",
              "    <tr>\n",
              "      <th>3</th>\n",
              "      <td>2</td>\n",
              "      <td>54</td>\n",
              "      <td>10300</td>\n",
              "      <td>0.292007</td>\n",
              "      <td>9.239899</td>\n",
              "      <td>7.233722</td>\n",
              "    </tr>\n",
              "    <tr>\n",
              "      <th>4</th>\n",
              "      <td>2</td>\n",
              "      <td>55</td>\n",
              "      <td>8983</td>\n",
              "      <td>0.254666</td>\n",
              "      <td>9.103089</td>\n",
              "      <td>7.126617</td>\n",
              "    </tr>\n",
              "  </tbody>\n",
              "</table>\n",
              "</div>"
            ],
            "text/plain": [
              "   userID  artistID  weight  minmax_scale  log_weight  log_minmax\n",
              "0       2        51   13883      0.393596    9.538420    7.467428\n",
              "1       2        52   11690      0.331418    9.366489    7.332827\n",
              "2       2        53   11351      0.321806    9.337061    7.309788\n",
              "3       2        54   10300      0.292007    9.239899    7.233722\n",
              "4       2        55    8983      0.254666    9.103089    7.126617"
            ]
          },
          "metadata": {
            "tags": []
          },
          "execution_count": 30
        }
      ]
    },
    {
      "cell_type": "code",
      "metadata": {
        "colab_type": "code",
        "id": "8BBXiHOiKcEN",
        "colab": {}
      },
      "source": [
        "scale = user_artist['log_minmax'].min(), user_artist['log_minmax'].max()"
      ],
      "execution_count": 0,
      "outputs": []
    },
    {
      "cell_type": "code",
      "metadata": {
        "colab_type": "code",
        "outputId": "3ac8d5f9-068b-4c53-c9b9-6dbbfb66b486",
        "id": "ew-fMHLUKcEc",
        "colab": {
          "base_uri": "https://localhost:8080/",
          "height": 34
        }
      },
      "source": [
        "scale"
      ],
      "execution_count": 0,
      "outputs": [
        {
          "output_type": "execute_result",
          "data": {
            "text/plain": [
              "(0.0, 9.999999999999998)"
            ]
          },
          "metadata": {
            "tags": []
          },
          "execution_count": 32
        }
      ]
    },
    {
      "cell_type": "code",
      "metadata": {
        "id": "YzashzFHw4vA",
        "colab_type": "code",
        "outputId": "7a959c4d-2ae5-44ff-8026-5cc90f9a5893",
        "colab": {
          "base_uri": "https://localhost:8080/",
          "height": 197
        }
      },
      "source": [
        "user_artist.head()"
      ],
      "execution_count": 0,
      "outputs": [
        {
          "output_type": "execute_result",
          "data": {
            "text/html": [
              "<div>\n",
              "<style scoped>\n",
              "    .dataframe tbody tr th:only-of-type {\n",
              "        vertical-align: middle;\n",
              "    }\n",
              "\n",
              "    .dataframe tbody tr th {\n",
              "        vertical-align: top;\n",
              "    }\n",
              "\n",
              "    .dataframe thead th {\n",
              "        text-align: right;\n",
              "    }\n",
              "</style>\n",
              "<table border=\"1\" class=\"dataframe\">\n",
              "  <thead>\n",
              "    <tr style=\"text-align: right;\">\n",
              "      <th></th>\n",
              "      <th>userID</th>\n",
              "      <th>artistID</th>\n",
              "      <th>weight</th>\n",
              "      <th>minmax_scale</th>\n",
              "      <th>log_weight</th>\n",
              "      <th>log_minmax</th>\n",
              "    </tr>\n",
              "  </thead>\n",
              "  <tbody>\n",
              "    <tr>\n",
              "      <th>0</th>\n",
              "      <td>2</td>\n",
              "      <td>51</td>\n",
              "      <td>13883</td>\n",
              "      <td>0.393596</td>\n",
              "      <td>9.538420</td>\n",
              "      <td>7.467428</td>\n",
              "    </tr>\n",
              "    <tr>\n",
              "      <th>1</th>\n",
              "      <td>2</td>\n",
              "      <td>52</td>\n",
              "      <td>11690</td>\n",
              "      <td>0.331418</td>\n",
              "      <td>9.366489</td>\n",
              "      <td>7.332827</td>\n",
              "    </tr>\n",
              "    <tr>\n",
              "      <th>2</th>\n",
              "      <td>2</td>\n",
              "      <td>53</td>\n",
              "      <td>11351</td>\n",
              "      <td>0.321806</td>\n",
              "      <td>9.337061</td>\n",
              "      <td>7.309788</td>\n",
              "    </tr>\n",
              "    <tr>\n",
              "      <th>3</th>\n",
              "      <td>2</td>\n",
              "      <td>54</td>\n",
              "      <td>10300</td>\n",
              "      <td>0.292007</td>\n",
              "      <td>9.239899</td>\n",
              "      <td>7.233722</td>\n",
              "    </tr>\n",
              "    <tr>\n",
              "      <th>4</th>\n",
              "      <td>2</td>\n",
              "      <td>55</td>\n",
              "      <td>8983</td>\n",
              "      <td>0.254666</td>\n",
              "      <td>9.103089</td>\n",
              "      <td>7.126617</td>\n",
              "    </tr>\n",
              "  </tbody>\n",
              "</table>\n",
              "</div>"
            ],
            "text/plain": [
              "   userID  artistID  weight  minmax_scale  log_weight  log_minmax\n",
              "0       2        51   13883      0.393596    9.538420    7.467428\n",
              "1       2        52   11690      0.331418    9.366489    7.332827\n",
              "2       2        53   11351      0.321806    9.337061    7.309788\n",
              "3       2        54   10300      0.292007    9.239899    7.233722\n",
              "4       2        55    8983      0.254666    9.103089    7.126617"
            ]
          },
          "metadata": {
            "tags": []
          },
          "execution_count": 33
        }
      ]
    },
    {
      "cell_type": "code",
      "metadata": {
        "colab_type": "code",
        "id": "ESHBLZzGKcEk",
        "colab": {}
      },
      "source": [
        "data_log_scale = Dataset.load_from_df(user_artist.drop(columns=['weight', 'minmax_scale', 'log_weight']),reader= Reader(rating_scale= scale))"
      ],
      "execution_count": 0,
      "outputs": []
    },
    {
      "cell_type": "code",
      "metadata": {
        "colab_type": "code",
        "outputId": "fa823f65-e7e0-48d0-f37b-15a4061a2a54",
        "id": "kAzCjFpnKcEt",
        "colab": {
          "base_uri": "https://localhost:8080/",
          "height": 1000
        }
      },
      "source": [
        "eval_log_scale = model_train_evaluate(total_algorithm, data_log_scale,'log_scaled')"
      ],
      "execution_count": 0,
      "outputs": [
        {
          "output_type": "stream",
          "text": [
            "SVD\n",
            "SVDpp\n"
          ],
          "name": "stdout"
        },
        {
          "output_type": "stream",
          "text": [
            "/usr/local/lib/python3.6/dist-packages/pandas/core/frame.py:7138: FutureWarning: Sorting because non-concatenation axis is not aligned. A future version\n",
            "of pandas will change to not sort by default.\n",
            "\n",
            "To accept the future behavior, pass 'sort=False'.\n",
            "\n",
            "To retain the current behavior and silence the warning, pass 'sort=True'.\n",
            "\n",
            "  sort=sort,\n"
          ],
          "name": "stderr"
        },
        {
          "output_type": "stream",
          "text": [
            "KNNBaseline\n",
            "Estimating biases using als...\n",
            "Computing the msd similarity matrix...\n",
            "Done computing similarity matrix.\n",
            "Estimating biases using als...\n",
            "Computing the msd similarity matrix...\n",
            "Done computing similarity matrix.\n",
            "Estimating biases using als...\n",
            "Computing the msd similarity matrix...\n",
            "Done computing similarity matrix.\n",
            "Estimating biases using als...\n",
            "Computing the msd similarity matrix...\n",
            "Done computing similarity matrix.\n",
            "Estimating biases using als...\n",
            "Computing the msd similarity matrix...\n",
            "Done computing similarity matrix.\n",
            "KNNBasic\n",
            "Computing the msd similarity matrix...\n",
            "Done computing similarity matrix.\n",
            "Computing the msd similarity matrix...\n",
            "Done computing similarity matrix.\n",
            "Computing the msd similarity matrix...\n",
            "Done computing similarity matrix.\n",
            "Computing the msd similarity matrix...\n",
            "Done computing similarity matrix.\n",
            "Computing the msd similarity matrix...\n",
            "Done computing similarity matrix.\n",
            "KNNWithMeans\n",
            "Computing the msd similarity matrix...\n",
            "Done computing similarity matrix.\n",
            "Computing the msd similarity matrix...\n",
            "Done computing similarity matrix.\n",
            "Computing the msd similarity matrix...\n",
            "Done computing similarity matrix.\n",
            "Computing the msd similarity matrix...\n",
            "Done computing similarity matrix.\n",
            "Computing the msd similarity matrix...\n",
            "Done computing similarity matrix.\n",
            "KNNWithZScore\n",
            "Computing the msd similarity matrix...\n",
            "Done computing similarity matrix.\n",
            "Computing the msd similarity matrix...\n",
            "Done computing similarity matrix.\n",
            "Computing the msd similarity matrix...\n",
            "Done computing similarity matrix.\n",
            "Computing the msd similarity matrix...\n",
            "Done computing similarity matrix.\n",
            "Computing the msd similarity matrix...\n",
            "Done computing similarity matrix.\n",
            "CoClustering\n",
            "BaselineOnly\n",
            "Estimating biases using als...\n",
            "Estimating biases using als...\n",
            "Estimating biases using als...\n",
            "Estimating biases using als...\n",
            "Estimating biases using als...\n",
            "NormalPredictor\n"
          ],
          "name": "stdout"
        }
      ]
    },
    {
      "cell_type": "code",
      "metadata": {
        "id": "y1ttbkd4zfoc",
        "colab_type": "code",
        "outputId": "25c395c0-5cee-4023-96e7-b1ed3d3ba9cb",
        "colab": {
          "base_uri": "https://localhost:8080/",
          "height": 347
        }
      },
      "source": [
        "eval_log_scale.groupby('algorithm').mean()"
      ],
      "execution_count": 0,
      "outputs": [
        {
          "output_type": "execute_result",
          "data": {
            "text/html": [
              "<div>\n",
              "<style scoped>\n",
              "    .dataframe tbody tr th:only-of-type {\n",
              "        vertical-align: middle;\n",
              "    }\n",
              "\n",
              "    .dataframe tbody tr th {\n",
              "        vertical-align: top;\n",
              "    }\n",
              "\n",
              "    .dataframe thead th {\n",
              "        text-align: right;\n",
              "    }\n",
              "</style>\n",
              "<table border=\"1\" class=\"dataframe\">\n",
              "  <thead>\n",
              "    <tr style=\"text-align: right;\">\n",
              "      <th></th>\n",
              "      <th>fit_time</th>\n",
              "      <th>test_mae</th>\n",
              "      <th>test_rmse</th>\n",
              "      <th>test_time</th>\n",
              "    </tr>\n",
              "    <tr>\n",
              "      <th>algorithm</th>\n",
              "      <th></th>\n",
              "      <th></th>\n",
              "      <th></th>\n",
              "      <th></th>\n",
              "    </tr>\n",
              "  </thead>\n",
              "  <tbody>\n",
              "    <tr>\n",
              "      <th>BaselineOnly</th>\n",
              "      <td>0.137181</td>\n",
              "      <td>0.521222</td>\n",
              "      <td>0.703319</td>\n",
              "      <td>0.109165</td>\n",
              "    </tr>\n",
              "    <tr>\n",
              "      <th>CoClustering</th>\n",
              "      <td>2.134368</td>\n",
              "      <td>0.709443</td>\n",
              "      <td>0.977918</td>\n",
              "      <td>0.122084</td>\n",
              "    </tr>\n",
              "    <tr>\n",
              "      <th>KNNBaseline</th>\n",
              "      <td>0.406551</td>\n",
              "      <td>0.532467</td>\n",
              "      <td>0.714606</td>\n",
              "      <td>1.671129</td>\n",
              "    </tr>\n",
              "    <tr>\n",
              "      <th>KNNBasic</th>\n",
              "      <td>0.280312</td>\n",
              "      <td>0.795559</td>\n",
              "      <td>1.087247</td>\n",
              "      <td>1.399159</td>\n",
              "    </tr>\n",
              "    <tr>\n",
              "      <th>KNNWithMeans</th>\n",
              "      <td>0.315505</td>\n",
              "      <td>0.563028</td>\n",
              "      <td>0.792190</td>\n",
              "      <td>1.454080</td>\n",
              "    </tr>\n",
              "    <tr>\n",
              "      <th>KNNWithZScore</th>\n",
              "      <td>0.379696</td>\n",
              "      <td>0.559705</td>\n",
              "      <td>0.793606</td>\n",
              "      <td>1.547361</td>\n",
              "    </tr>\n",
              "    <tr>\n",
              "      <th>NormalPredictor</th>\n",
              "      <td>0.099651</td>\n",
              "      <td>1.332868</td>\n",
              "      <td>1.694466</td>\n",
              "      <td>0.159977</td>\n",
              "    </tr>\n",
              "    <tr>\n",
              "      <th>SVD</th>\n",
              "      <td>3.815338</td>\n",
              "      <td>0.482408</td>\n",
              "      <td>0.654872</td>\n",
              "      <td>0.149267</td>\n",
              "    </tr>\n",
              "    <tr>\n",
              "      <th>SVDpp</th>\n",
              "      <td>36.280566</td>\n",
              "      <td>0.469442</td>\n",
              "      <td>0.637945</td>\n",
              "      <td>0.801269</td>\n",
              "    </tr>\n",
              "  </tbody>\n",
              "</table>\n",
              "</div>"
            ],
            "text/plain": [
              "                  fit_time  test_mae  test_rmse  test_time\n",
              "algorithm                                                 \n",
              "BaselineOnly      0.137181  0.521222   0.703319   0.109165\n",
              "CoClustering      2.134368  0.709443   0.977918   0.122084\n",
              "KNNBaseline       0.406551  0.532467   0.714606   1.671129\n",
              "KNNBasic          0.280312  0.795559   1.087247   1.399159\n",
              "KNNWithMeans      0.315505  0.563028   0.792190   1.454080\n",
              "KNNWithZScore     0.379696  0.559705   0.793606   1.547361\n",
              "NormalPredictor   0.099651  1.332868   1.694466   0.159977\n",
              "SVD               3.815338  0.482408   0.654872   0.149267\n",
              "SVDpp            36.280566  0.469442   0.637945   0.801269"
            ]
          },
          "metadata": {
            "tags": []
          },
          "execution_count": 36
        }
      ]
    },
    {
      "cell_type": "markdown",
      "metadata": {
        "id": "FZjpj2iupzTu",
        "colab_type": "text"
      },
      "source": [
        "# 3. Recommendation Engine for User normalization"
      ]
    },
    {
      "cell_type": "code",
      "metadata": {
        "id": "-Ba72_i-h1t7",
        "colab_type": "code",
        "colab": {}
      },
      "source": [
        "user_max = pd.DataFrame(user_artist.groupby(['userID']).max()['weight']).reset_index()"
      ],
      "execution_count": 0,
      "outputs": []
    },
    {
      "cell_type": "code",
      "metadata": {
        "id": "UkD3AekGkgfD",
        "colab_type": "code",
        "colab": {}
      },
      "source": [
        "user_max.rename({'weight':'max_weight'}, axis='columns', inplace=True)"
      ],
      "execution_count": 0,
      "outputs": []
    },
    {
      "cell_type": "code",
      "metadata": {
        "id": "e1mawbVDj6XT",
        "colab_type": "code",
        "outputId": "93c9855a-2998-48bc-d6fb-27ba748322b5",
        "colab": {
          "base_uri": "https://localhost:8080/",
          "height": 197
        }
      },
      "source": [
        "user_max.head()"
      ],
      "execution_count": 0,
      "outputs": [
        {
          "output_type": "execute_result",
          "data": {
            "text/html": [
              "<div>\n",
              "<style scoped>\n",
              "    .dataframe tbody tr th:only-of-type {\n",
              "        vertical-align: middle;\n",
              "    }\n",
              "\n",
              "    .dataframe tbody tr th {\n",
              "        vertical-align: top;\n",
              "    }\n",
              "\n",
              "    .dataframe thead th {\n",
              "        text-align: right;\n",
              "    }\n",
              "</style>\n",
              "<table border=\"1\" class=\"dataframe\">\n",
              "  <thead>\n",
              "    <tr style=\"text-align: right;\">\n",
              "      <th></th>\n",
              "      <th>userID</th>\n",
              "      <th>max_weight</th>\n",
              "    </tr>\n",
              "  </thead>\n",
              "  <tbody>\n",
              "    <tr>\n",
              "      <th>0</th>\n",
              "      <td>2</td>\n",
              "      <td>13883</td>\n",
              "    </tr>\n",
              "    <tr>\n",
              "      <th>1</th>\n",
              "      <td>3</td>\n",
              "      <td>13176</td>\n",
              "    </tr>\n",
              "    <tr>\n",
              "      <th>2</th>\n",
              "      <td>4</td>\n",
              "      <td>4983</td>\n",
              "    </tr>\n",
              "    <tr>\n",
              "      <th>3</th>\n",
              "      <td>5</td>\n",
              "      <td>884</td>\n",
              "    </tr>\n",
              "    <tr>\n",
              "      <th>4</th>\n",
              "      <td>6</td>\n",
              "      <td>41</td>\n",
              "    </tr>\n",
              "  </tbody>\n",
              "</table>\n",
              "</div>"
            ],
            "text/plain": [
              "   userID  max_weight\n",
              "0       2       13883\n",
              "1       3       13176\n",
              "2       4        4983\n",
              "3       5         884\n",
              "4       6          41"
            ]
          },
          "metadata": {
            "tags": []
          },
          "execution_count": 39
        }
      ]
    },
    {
      "cell_type": "code",
      "metadata": {
        "id": "KBVJ5PiQjxEf",
        "colab_type": "code",
        "colab": {}
      },
      "source": [
        "user_artist = user_artist.merge(user_max, how = 'left',on='userID')"
      ],
      "execution_count": 0,
      "outputs": []
    },
    {
      "cell_type": "code",
      "metadata": {
        "id": "ef6ry_fUk3ss",
        "colab_type": "code",
        "outputId": "2090a40e-17ba-4600-90a6-00b65215234c",
        "colab": {
          "base_uri": "https://localhost:8080/",
          "height": 197
        }
      },
      "source": [
        "user_artist.head()"
      ],
      "execution_count": 0,
      "outputs": [
        {
          "output_type": "execute_result",
          "data": {
            "text/html": [
              "<div>\n",
              "<style scoped>\n",
              "    .dataframe tbody tr th:only-of-type {\n",
              "        vertical-align: middle;\n",
              "    }\n",
              "\n",
              "    .dataframe tbody tr th {\n",
              "        vertical-align: top;\n",
              "    }\n",
              "\n",
              "    .dataframe thead th {\n",
              "        text-align: right;\n",
              "    }\n",
              "</style>\n",
              "<table border=\"1\" class=\"dataframe\">\n",
              "  <thead>\n",
              "    <tr style=\"text-align: right;\">\n",
              "      <th></th>\n",
              "      <th>userID</th>\n",
              "      <th>artistID</th>\n",
              "      <th>weight</th>\n",
              "      <th>minmax_scale</th>\n",
              "      <th>log_weight</th>\n",
              "      <th>log_minmax</th>\n",
              "      <th>max_weight</th>\n",
              "    </tr>\n",
              "  </thead>\n",
              "  <tbody>\n",
              "    <tr>\n",
              "      <th>0</th>\n",
              "      <td>2</td>\n",
              "      <td>51</td>\n",
              "      <td>13883</td>\n",
              "      <td>0.393596</td>\n",
              "      <td>9.538420</td>\n",
              "      <td>7.467428</td>\n",
              "      <td>13883</td>\n",
              "    </tr>\n",
              "    <tr>\n",
              "      <th>1</th>\n",
              "      <td>2</td>\n",
              "      <td>52</td>\n",
              "      <td>11690</td>\n",
              "      <td>0.331418</td>\n",
              "      <td>9.366489</td>\n",
              "      <td>7.332827</td>\n",
              "      <td>13883</td>\n",
              "    </tr>\n",
              "    <tr>\n",
              "      <th>2</th>\n",
              "      <td>2</td>\n",
              "      <td>53</td>\n",
              "      <td>11351</td>\n",
              "      <td>0.321806</td>\n",
              "      <td>9.337061</td>\n",
              "      <td>7.309788</td>\n",
              "      <td>13883</td>\n",
              "    </tr>\n",
              "    <tr>\n",
              "      <th>3</th>\n",
              "      <td>2</td>\n",
              "      <td>54</td>\n",
              "      <td>10300</td>\n",
              "      <td>0.292007</td>\n",
              "      <td>9.239899</td>\n",
              "      <td>7.233722</td>\n",
              "      <td>13883</td>\n",
              "    </tr>\n",
              "    <tr>\n",
              "      <th>4</th>\n",
              "      <td>2</td>\n",
              "      <td>55</td>\n",
              "      <td>8983</td>\n",
              "      <td>0.254666</td>\n",
              "      <td>9.103089</td>\n",
              "      <td>7.126617</td>\n",
              "      <td>13883</td>\n",
              "    </tr>\n",
              "  </tbody>\n",
              "</table>\n",
              "</div>"
            ],
            "text/plain": [
              "   userID  artistID  weight  minmax_scale  log_weight  log_minmax  max_weight\n",
              "0       2        51   13883      0.393596    9.538420    7.467428       13883\n",
              "1       2        52   11690      0.331418    9.366489    7.332827       13883\n",
              "2       2        53   11351      0.321806    9.337061    7.309788       13883\n",
              "3       2        54   10300      0.292007    9.239899    7.233722       13883\n",
              "4       2        55    8983      0.254666    9.103089    7.126617       13883"
            ]
          },
          "metadata": {
            "tags": []
          },
          "execution_count": 41
        }
      ]
    },
    {
      "cell_type": "code",
      "metadata": {
        "id": "f6gAfXwvl77H",
        "colab_type": "code",
        "colab": {}
      },
      "source": [
        "user_artist['user_norm_weight'] = (user_artist['weight']/user_artist['max_weight'])*SCALING_FACTOR"
      ],
      "execution_count": 0,
      "outputs": []
    },
    {
      "cell_type": "code",
      "metadata": {
        "id": "MvOmTpl5mG5z",
        "colab_type": "code",
        "outputId": "213f262c-cb3c-465e-ba50-22983f053a26",
        "colab": {
          "base_uri": "https://localhost:8080/",
          "height": 197
        }
      },
      "source": [
        "user_artist.head()"
      ],
      "execution_count": 0,
      "outputs": [
        {
          "output_type": "execute_result",
          "data": {
            "text/html": [
              "<div>\n",
              "<style scoped>\n",
              "    .dataframe tbody tr th:only-of-type {\n",
              "        vertical-align: middle;\n",
              "    }\n",
              "\n",
              "    .dataframe tbody tr th {\n",
              "        vertical-align: top;\n",
              "    }\n",
              "\n",
              "    .dataframe thead th {\n",
              "        text-align: right;\n",
              "    }\n",
              "</style>\n",
              "<table border=\"1\" class=\"dataframe\">\n",
              "  <thead>\n",
              "    <tr style=\"text-align: right;\">\n",
              "      <th></th>\n",
              "      <th>userID</th>\n",
              "      <th>artistID</th>\n",
              "      <th>weight</th>\n",
              "      <th>minmax_scale</th>\n",
              "      <th>log_weight</th>\n",
              "      <th>log_minmax</th>\n",
              "      <th>max_weight</th>\n",
              "      <th>user_norm_weight</th>\n",
              "    </tr>\n",
              "  </thead>\n",
              "  <tbody>\n",
              "    <tr>\n",
              "      <th>0</th>\n",
              "      <td>2</td>\n",
              "      <td>51</td>\n",
              "      <td>13883</td>\n",
              "      <td>0.393596</td>\n",
              "      <td>9.538420</td>\n",
              "      <td>7.467428</td>\n",
              "      <td>13883</td>\n",
              "      <td>10.000000</td>\n",
              "    </tr>\n",
              "    <tr>\n",
              "      <th>1</th>\n",
              "      <td>2</td>\n",
              "      <td>52</td>\n",
              "      <td>11690</td>\n",
              "      <td>0.331418</td>\n",
              "      <td>9.366489</td>\n",
              "      <td>7.332827</td>\n",
              "      <td>13883</td>\n",
              "      <td>8.420370</td>\n",
              "    </tr>\n",
              "    <tr>\n",
              "      <th>2</th>\n",
              "      <td>2</td>\n",
              "      <td>53</td>\n",
              "      <td>11351</td>\n",
              "      <td>0.321806</td>\n",
              "      <td>9.337061</td>\n",
              "      <td>7.309788</td>\n",
              "      <td>13883</td>\n",
              "      <td>8.176187</td>\n",
              "    </tr>\n",
              "    <tr>\n",
              "      <th>3</th>\n",
              "      <td>2</td>\n",
              "      <td>54</td>\n",
              "      <td>10300</td>\n",
              "      <td>0.292007</td>\n",
              "      <td>9.239899</td>\n",
              "      <td>7.233722</td>\n",
              "      <td>13883</td>\n",
              "      <td>7.419146</td>\n",
              "    </tr>\n",
              "    <tr>\n",
              "      <th>4</th>\n",
              "      <td>2</td>\n",
              "      <td>55</td>\n",
              "      <td>8983</td>\n",
              "      <td>0.254666</td>\n",
              "      <td>9.103089</td>\n",
              "      <td>7.126617</td>\n",
              "      <td>13883</td>\n",
              "      <td>6.470503</td>\n",
              "    </tr>\n",
              "  </tbody>\n",
              "</table>\n",
              "</div>"
            ],
            "text/plain": [
              "   userID  artistID  weight  ...  log_minmax  max_weight  user_norm_weight\n",
              "0       2        51   13883  ...    7.467428       13883         10.000000\n",
              "1       2        52   11690  ...    7.332827       13883          8.420370\n",
              "2       2        53   11351  ...    7.309788       13883          8.176187\n",
              "3       2        54   10300  ...    7.233722       13883          7.419146\n",
              "4       2        55    8983  ...    7.126617       13883          6.470503\n",
              "\n",
              "[5 rows x 8 columns]"
            ]
          },
          "metadata": {
            "tags": []
          },
          "execution_count": 44
        }
      ]
    },
    {
      "cell_type": "code",
      "metadata": {
        "colab_type": "code",
        "outputId": "97505a11-e952-40d0-cde6-43797ccf0cb4",
        "id": "BBQqNVA90oQm",
        "colab": {
          "base_uri": "https://localhost:8080/",
          "height": 374
        }
      },
      "source": [
        "plt.figure(figsize=(30,6))\n",
        "sns.kdeplot(user_artist['user_norm_weight'])\n",
        "plt.grid()"
      ],
      "execution_count": 0,
      "outputs": [
        {
          "output_type": "display_data",
          "data": {
            "image/png": "[encoded data removed]",
            "text/plain": [
              "<Figure size 2160x432 with 1 Axes>"
            ]
          },
          "metadata": {
            "tags": []
          }
        }
      ]
    },
    {
      "cell_type": "code",
      "metadata": {
        "colab_type": "code",
        "outputId": "54c98552-2400-46d8-bbf6-d0fedfb5c867",
        "id": "ICIwNDqm0oQo",
        "colab": {
          "base_uri": "https://localhost:8080/",
          "height": 34
        }
      },
      "source": [
        "skew(user_artist['user_norm_weight']), kurtosis(user_artist['user_norm_weight'])"
      ],
      "execution_count": 0,
      "outputs": [
        {
          "output_type": "execute_result",
          "data": {
            "text/plain": [
              "(2.1043004335525746, 4.690462174920551)"
            ]
          },
          "metadata": {
            "tags": []
          },
          "execution_count": 46
        }
      ]
    },
    {
      "cell_type": "code",
      "metadata": {
        "colab_type": "code",
        "id": "JMwWkiQY0oQr",
        "colab": {}
      },
      "source": [
        "scale = user_artist['user_norm_weight'].min(), user_artist['user_norm_weight'].max()"
      ],
      "execution_count": 0,
      "outputs": []
    },
    {
      "cell_type": "code",
      "metadata": {
        "colab_type": "code",
        "outputId": "69718cb9-cf7b-4f0b-cc88-58954e4d9e1e",
        "id": "gZ9xzzjx0oQt",
        "colab": {
          "base_uri": "https://localhost:8080/",
          "height": 34
        }
      },
      "source": [
        "scale"
      ],
      "execution_count": 0,
      "outputs": [
        {
          "output_type": "execute_result",
          "data": {
            "text/plain": [
              "(7.591112325689083e-05, 10.0)"
            ]
          },
          "metadata": {
            "tags": []
          },
          "execution_count": 48
        }
      ]
    },
    {
      "cell_type": "code",
      "metadata": {
        "colab_type": "code",
        "outputId": "97c5c7fd-7e13-4718-9c96-c085632fa9a5",
        "id": "-pFOU3aA0oQw",
        "colab": {
          "base_uri": "https://localhost:8080/",
          "height": 197
        }
      },
      "source": [
        "user_artist.head()"
      ],
      "execution_count": 0,
      "outputs": [
        {
          "output_type": "execute_result",
          "data": {
            "text/html": [
              "<div>\n",
              "<style scoped>\n",
              "    .dataframe tbody tr th:only-of-type {\n",
              "        vertical-align: middle;\n",
              "    }\n",
              "\n",
              "    .dataframe tbody tr th {\n",
              "        vertical-align: top;\n",
              "    }\n",
              "\n",
              "    .dataframe thead th {\n",
              "        text-align: right;\n",
              "    }\n",
              "</style>\n",
              "<table border=\"1\" class=\"dataframe\">\n",
              "  <thead>\n",
              "    <tr style=\"text-align: right;\">\n",
              "      <th></th>\n",
              "      <th>userID</th>\n",
              "      <th>artistID</th>\n",
              "      <th>weight</th>\n",
              "      <th>minmax_scale</th>\n",
              "      <th>log_weight</th>\n",
              "      <th>log_minmax</th>\n",
              "      <th>max_weight</th>\n",
              "      <th>user_norm_weight</th>\n",
              "    </tr>\n",
              "  </thead>\n",
              "  <tbody>\n",
              "    <tr>\n",
              "      <th>0</th>\n",
              "      <td>2</td>\n",
              "      <td>51</td>\n",
              "      <td>13883</td>\n",
              "      <td>0.393596</td>\n",
              "      <td>9.538420</td>\n",
              "      <td>7.467428</td>\n",
              "      <td>13883</td>\n",
              "      <td>10.000000</td>\n",
              "    </tr>\n",
              "    <tr>\n",
              "      <th>1</th>\n",
              "      <td>2</td>\n",
              "      <td>52</td>\n",
              "      <td>11690</td>\n",
              "      <td>0.331418</td>\n",
              "      <td>9.366489</td>\n",
              "      <td>7.332827</td>\n",
              "      <td>13883</td>\n",
              "      <td>8.420370</td>\n",
              "    </tr>\n",
              "    <tr>\n",
              "      <th>2</th>\n",
              "      <td>2</td>\n",
              "      <td>53</td>\n",
              "      <td>11351</td>\n",
              "      <td>0.321806</td>\n",
              "      <td>9.337061</td>\n",
              "      <td>7.309788</td>\n",
              "      <td>13883</td>\n",
              "      <td>8.176187</td>\n",
              "    </tr>\n",
              "    <tr>\n",
              "      <th>3</th>\n",
              "      <td>2</td>\n",
              "      <td>54</td>\n",
              "      <td>10300</td>\n",
              "      <td>0.292007</td>\n",
              "      <td>9.239899</td>\n",
              "      <td>7.233722</td>\n",
              "      <td>13883</td>\n",
              "      <td>7.419146</td>\n",
              "    </tr>\n",
              "    <tr>\n",
              "      <th>4</th>\n",
              "      <td>2</td>\n",
              "      <td>55</td>\n",
              "      <td>8983</td>\n",
              "      <td>0.254666</td>\n",
              "      <td>9.103089</td>\n",
              "      <td>7.126617</td>\n",
              "      <td>13883</td>\n",
              "      <td>6.470503</td>\n",
              "    </tr>\n",
              "  </tbody>\n",
              "</table>\n",
              "</div>"
            ],
            "text/plain": [
              "   userID  artistID  weight  ...  log_minmax  max_weight  user_norm_weight\n",
              "0       2        51   13883  ...    7.467428       13883         10.000000\n",
              "1       2        52   11690  ...    7.332827       13883          8.420370\n",
              "2       2        53   11351  ...    7.309788       13883          8.176187\n",
              "3       2        54   10300  ...    7.233722       13883          7.419146\n",
              "4       2        55    8983  ...    7.126617       13883          6.470503\n",
              "\n",
              "[5 rows x 8 columns]"
            ]
          },
          "metadata": {
            "tags": []
          },
          "execution_count": 49
        }
      ]
    },
    {
      "cell_type": "code",
      "metadata": {
        "colab_type": "code",
        "id": "6OqqOubh0oQ0",
        "colab": {}
      },
      "source": [
        "data_user_norm = Dataset.load_from_df(user_artist.drop(columns=['weight',\t'minmax_scale',\t'log_weight',\t'log_minmax',\t'max_weight']), reader= Reader(rating_scale= scale))"
      ],
      "execution_count": 0,
      "outputs": []
    },
    {
      "cell_type": "code",
      "metadata": {
        "colab_type": "code",
        "outputId": "3b34668f-52ab-4cb4-f334-43efe7481a59",
        "id": "7nuPj2ZO0oQ2",
        "colab": {
          "base_uri": "https://localhost:8080/",
          "height": 1000
        }
      },
      "source": [
        "eval_user_norm = model_train_evaluate(total_algorithm, data_user_norm, 'user_norm')"
      ],
      "execution_count": 0,
      "outputs": [
        {
          "output_type": "stream",
          "text": [
            "SVD\n",
            "SVDpp\n"
          ],
          "name": "stdout"
        },
        {
          "output_type": "stream",
          "text": [
            "/usr/local/lib/python3.6/dist-packages/pandas/core/frame.py:7138: FutureWarning: Sorting because non-concatenation axis is not aligned. A future version\n",
            "of pandas will change to not sort by default.\n",
            "\n",
            "To accept the future behavior, pass 'sort=False'.\n",
            "\n",
            "To retain the current behavior and silence the warning, pass 'sort=True'.\n",
            "\n",
            "  sort=sort,\n"
          ],
          "name": "stderr"
        },
        {
          "output_type": "stream",
          "text": [
            "KNNBaseline\n",
            "Estimating biases using als...\n",
            "Computing the msd similarity matrix...\n",
            "Done computing similarity matrix.\n",
            "Estimating biases using als...\n",
            "Computing the msd similarity matrix...\n",
            "Done computing similarity matrix.\n",
            "Estimating biases using als...\n",
            "Computing the msd similarity matrix...\n",
            "Done computing similarity matrix.\n",
            "Estimating biases using als...\n",
            "Computing the msd similarity matrix...\n",
            "Done computing similarity matrix.\n",
            "Estimating biases using als...\n",
            "Computing the msd similarity matrix...\n",
            "Done computing similarity matrix.\n",
            "KNNBasic\n",
            "Computing the msd similarity matrix...\n",
            "Done computing similarity matrix.\n",
            "Computing the msd similarity matrix...\n",
            "Done computing similarity matrix.\n",
            "Computing the msd similarity matrix...\n",
            "Done computing similarity matrix.\n",
            "Computing the msd similarity matrix...\n",
            "Done computing similarity matrix.\n",
            "Computing the msd similarity matrix...\n",
            "Done computing similarity matrix.\n",
            "KNNWithMeans\n",
            "Computing the msd similarity matrix...\n",
            "Done computing similarity matrix.\n",
            "Computing the msd similarity matrix...\n",
            "Done computing similarity matrix.\n",
            "Computing the msd similarity matrix...\n",
            "Done computing similarity matrix.\n",
            "Computing the msd similarity matrix...\n",
            "Done computing similarity matrix.\n",
            "Computing the msd similarity matrix...\n",
            "Done computing similarity matrix.\n",
            "KNNWithZScore\n",
            "Computing the msd similarity matrix...\n",
            "Done computing similarity matrix.\n",
            "Computing the msd similarity matrix...\n",
            "Done computing similarity matrix.\n",
            "Computing the msd similarity matrix...\n",
            "Done computing similarity matrix.\n",
            "Computing the msd similarity matrix...\n",
            "Done computing similarity matrix.\n",
            "Computing the msd similarity matrix...\n",
            "Done computing similarity matrix.\n",
            "CoClustering\n",
            "BaselineOnly\n",
            "Estimating biases using als...\n",
            "Estimating biases using als...\n",
            "Estimating biases using als...\n",
            "Estimating biases using als...\n",
            "Estimating biases using als...\n",
            "NormalPredictor\n"
          ],
          "name": "stdout"
        }
      ]
    },
    {
      "cell_type": "code",
      "metadata": {
        "id": "kbV5dTTSadJd",
        "colab_type": "code",
        "outputId": "123705ab-a7e7-4712-84a0-9a780b1f169c",
        "colab": {
          "base_uri": "https://localhost:8080/"
        }
      },
      "source": [
        "eval_user_norm.groupby('algorithm').mean()"
      ],
      "execution_count": 0,
      "outputs": [
        {
          "output_type": "execute_result",
          "data": {
            "text/html": [
              "<div>\n",
              "<style scoped>\n",
              "    .dataframe tbody tr th:only-of-type {\n",
              "        vertical-align: middle;\n",
              "    }\n",
              "\n",
              "    .dataframe tbody tr th {\n",
              "        vertical-align: top;\n",
              "    }\n",
              "\n",
              "    .dataframe thead th {\n",
              "        text-align: right;\n",
              "    }\n",
              "</style>\n",
              "<table border=\"1\" class=\"dataframe\">\n",
              "  <thead>\n",
              "    <tr style=\"text-align: right;\">\n",
              "      <th></th>\n",
              "      <th>fit_time</th>\n",
              "      <th>test_mae</th>\n",
              "      <th>test_rmse</th>\n",
              "      <th>test_time</th>\n",
              "    </tr>\n",
              "    <tr>\n",
              "      <th>algorithm</th>\n",
              "      <th></th>\n",
              "      <th></th>\n",
              "      <th></th>\n",
              "      <th></th>\n",
              "    </tr>\n",
              "  </thead>\n",
              "  <tbody>\n",
              "    <tr>\n",
              "      <th>BaselineOnly</th>\n",
              "      <td>0.144629</td>\n",
              "      <td>1.111205</td>\n",
              "      <td>1.752040</td>\n",
              "      <td>0.113187</td>\n",
              "    </tr>\n",
              "    <tr>\n",
              "      <th>CoClustering</th>\n",
              "      <td>2.300895</td>\n",
              "      <td>1.161166</td>\n",
              "      <td>1.939818</td>\n",
              "      <td>0.127309</td>\n",
              "    </tr>\n",
              "    <tr>\n",
              "      <th>KNNBaseline</th>\n",
              "      <td>0.405911</td>\n",
              "      <td>1.142248</td>\n",
              "      <td>1.845987</td>\n",
              "      <td>1.650930</td>\n",
              "    </tr>\n",
              "    <tr>\n",
              "      <th>KNNBasic</th>\n",
              "      <td>0.278796</td>\n",
              "      <td>1.358182</td>\n",
              "      <td>2.061475</td>\n",
              "      <td>1.387456</td>\n",
              "    </tr>\n",
              "    <tr>\n",
              "      <th>KNNWithMeans</th>\n",
              "      <td>0.308147</td>\n",
              "      <td>1.181931</td>\n",
              "      <td>1.874657</td>\n",
              "      <td>1.493850</td>\n",
              "    </tr>\n",
              "    <tr>\n",
              "      <th>KNNWithZScore</th>\n",
              "      <td>0.396251</td>\n",
              "      <td>1.181334</td>\n",
              "      <td>1.902695</td>\n",
              "      <td>1.610903</td>\n",
              "    </tr>\n",
              "    <tr>\n",
              "      <th>NormalPredictor</th>\n",
              "      <td>0.099998</td>\n",
              "      <td>2.040653</td>\n",
              "      <td>2.736585</td>\n",
              "      <td>0.155847</td>\n",
              "    </tr>\n",
              "    <tr>\n",
              "      <th>SVD</th>\n",
              "      <td>3.892775</td>\n",
              "      <td>1.090575</td>\n",
              "      <td>1.758149</td>\n",
              "      <td>0.161779</td>\n",
              "    </tr>\n",
              "    <tr>\n",
              "      <th>SVDpp</th>\n",
              "      <td>36.940937</td>\n",
              "      <td>1.132951</td>\n",
              "      <td>1.816074</td>\n",
              "      <td>0.793242</td>\n",
              "    </tr>\n",
              "  </tbody>\n",
              "</table>\n",
              "</div>"
            ],
            "text/plain": [
              "                  fit_time  test_mae  test_rmse  test_time\n",
              "algorithm                                                 \n",
              "BaselineOnly      0.144629  1.111205   1.752040   0.113187\n",
              "CoClustering      2.300895  1.161166   1.939818   0.127309\n",
              "KNNBaseline       0.405911  1.142248   1.845987   1.650930\n",
              "KNNBasic          0.278796  1.358182   2.061475   1.387456\n",
              "KNNWithMeans      0.308147  1.181931   1.874657   1.493850\n",
              "KNNWithZScore     0.396251  1.181334   1.902695   1.610903\n",
              "NormalPredictor   0.099998  2.040653   2.736585   0.155847\n",
              "SVD               3.892775  1.090575   1.758149   0.161779\n",
              "SVDpp            36.940937  1.132951   1.816074   0.793242"
            ]
          },
          "metadata": {
            "tags": []
          },
          "execution_count": 52
        }
      ]
    },
    {
      "cell_type": "markdown",
      "metadata": {
        "id": "BT8xljNsajKk",
        "colab_type": "text"
      },
      "source": [
        "# Comparing and Evaluating all model"
      ]
    },
    {
      "cell_type": "code",
      "metadata": {
        "id": "9LazuNa-1HEH",
        "colab_type": "code",
        "colab": {}
      },
      "source": [
        "eval_total = eval_minmax"
      ],
      "execution_count": 0,
      "outputs": []
    },
    {
      "cell_type": "code",
      "metadata": {
        "id": "9sZqn_Z52e73",
        "colab_type": "code",
        "colab": {}
      },
      "source": [
        "eval_total = eval_total.append(eval_log_scale, ignore_index=True)"
      ],
      "execution_count": 0,
      "outputs": []
    },
    {
      "cell_type": "code",
      "metadata": {
        "id": "dM5DGHcX2uul",
        "colab_type": "code",
        "colab": {}
      },
      "source": [
        "eval_total = eval_total.append(eval_user_norm, ignore_index=True)"
      ],
      "execution_count": 0,
      "outputs": []
    },
    {
      "cell_type": "code",
      "metadata": {
        "id": "y8bq_gnE208g",
        "colab_type": "code",
        "outputId": "60ab4e1b-58e9-469c-aaa1-da84d843cc34",
        "colab": {
          "base_uri": "https://localhost:8080/"
        }
      },
      "source": [
        "eval_total.groupby(['algorithm', 'weight_type']).mean().reset_index().sort_values('test_rmse')"
      ],
      "execution_count": 0,
      "outputs": [
        {
          "output_type": "execute_result",
          "data": {
            "text/html": [
              "<div>\n",
              "<style scoped>\n",
              "    .dataframe tbody tr th:only-of-type {\n",
              "        vertical-align: middle;\n",
              "    }\n",
              "\n",
              "    .dataframe tbody tr th {\n",
              "        vertical-align: top;\n",
              "    }\n",
              "\n",
              "    .dataframe thead th {\n",
              "        text-align: right;\n",
              "    }\n",
              "</style>\n",
              "<table border=\"1\" class=\"dataframe\">\n",
              "  <thead>\n",
              "    <tr style=\"text-align: right;\">\n",
              "      <th></th>\n",
              "      <th>algorithm</th>\n",
              "      <th>weight_type</th>\n",
              "      <th>fit_time</th>\n",
              "      <th>test_mae</th>\n",
              "      <th>test_rmse</th>\n",
              "      <th>test_time</th>\n",
              "    </tr>\n",
              "  </thead>\n",
              "  <tbody>\n",
              "    <tr>\n",
              "      <th>1</th>\n",
              "      <td>BaselineOnly</td>\n",
              "      <td>minmax_scale</td>\n",
              "      <td>0.132743</td>\n",
              "      <td>0.019778</td>\n",
              "      <td>0.103438</td>\n",
              "      <td>0.107462</td>\n",
              "    </tr>\n",
              "    <tr>\n",
              "      <th>7</th>\n",
              "      <td>KNNBaseline</td>\n",
              "      <td>minmax_scale</td>\n",
              "      <td>0.400216</td>\n",
              "      <td>0.020023</td>\n",
              "      <td>0.103608</td>\n",
              "      <td>1.699127</td>\n",
              "    </tr>\n",
              "    <tr>\n",
              "      <th>13</th>\n",
              "      <td>KNNWithMeans</td>\n",
              "      <td>minmax_scale</td>\n",
              "      <td>0.308605</td>\n",
              "      <td>0.021789</td>\n",
              "      <td>0.104091</td>\n",
              "      <td>1.472455</td>\n",
              "    </tr>\n",
              "    <tr>\n",
              "      <th>25</th>\n",
              "      <td>SVDpp</td>\n",
              "      <td>minmax_scale</td>\n",
              "      <td>36.229042</td>\n",
              "      <td>0.029452</td>\n",
              "      <td>0.105667</td>\n",
              "      <td>0.781669</td>\n",
              "    </tr>\n",
              "    <tr>\n",
              "      <th>10</th>\n",
              "      <td>KNNBasic</td>\n",
              "      <td>minmax_scale</td>\n",
              "      <td>0.278551</td>\n",
              "      <td>0.022509</td>\n",
              "      <td>0.106072</td>\n",
              "      <td>1.349892</td>\n",
              "    </tr>\n",
              "    <tr>\n",
              "      <th>16</th>\n",
              "      <td>KNNWithZScore</td>\n",
              "      <td>minmax_scale</td>\n",
              "      <td>0.373103</td>\n",
              "      <td>0.020925</td>\n",
              "      <td>0.110885</td>\n",
              "      <td>1.629698</td>\n",
              "    </tr>\n",
              "    <tr>\n",
              "      <th>22</th>\n",
              "      <td>SVD</td>\n",
              "      <td>minmax_scale</td>\n",
              "      <td>3.820886</td>\n",
              "      <td>0.043865</td>\n",
              "      <td>0.116026</td>\n",
              "      <td>0.147570</td>\n",
              "    </tr>\n",
              "    <tr>\n",
              "      <th>4</th>\n",
              "      <td>CoClustering</td>\n",
              "      <td>minmax_scale</td>\n",
              "      <td>2.103077</td>\n",
              "      <td>0.022677</td>\n",
              "      <td>0.118479</td>\n",
              "      <td>0.080075</td>\n",
              "    </tr>\n",
              "    <tr>\n",
              "      <th>19</th>\n",
              "      <td>NormalPredictor</td>\n",
              "      <td>minmax_scale</td>\n",
              "      <td>0.096028</td>\n",
              "      <td>0.059396</td>\n",
              "      <td>0.130394</td>\n",
              "      <td>0.149555</td>\n",
              "    </tr>\n",
              "    <tr>\n",
              "      <th>24</th>\n",
              "      <td>SVDpp</td>\n",
              "      <td>log_scaled</td>\n",
              "      <td>36.280566</td>\n",
              "      <td>0.469442</td>\n",
              "      <td>0.637945</td>\n",
              "      <td>0.801269</td>\n",
              "    </tr>\n",
              "    <tr>\n",
              "      <th>21</th>\n",
              "      <td>SVD</td>\n",
              "      <td>log_scaled</td>\n",
              "      <td>3.815338</td>\n",
              "      <td>0.482408</td>\n",
              "      <td>0.654872</td>\n",
              "      <td>0.149267</td>\n",
              "    </tr>\n",
              "    <tr>\n",
              "      <th>0</th>\n",
              "      <td>BaselineOnly</td>\n",
              "      <td>log_scaled</td>\n",
              "      <td>0.137181</td>\n",
              "      <td>0.521222</td>\n",
              "      <td>0.703319</td>\n",
              "      <td>0.109165</td>\n",
              "    </tr>\n",
              "    <tr>\n",
              "      <th>6</th>\n",
              "      <td>KNNBaseline</td>\n",
              "      <td>log_scaled</td>\n",
              "      <td>0.406551</td>\n",
              "      <td>0.532467</td>\n",
              "      <td>0.714606</td>\n",
              "      <td>1.671129</td>\n",
              "    </tr>\n",
              "    <tr>\n",
              "      <th>12</th>\n",
              "      <td>KNNWithMeans</td>\n",
              "      <td>log_scaled</td>\n",
              "      <td>0.315505</td>\n",
              "      <td>0.563028</td>\n",
              "      <td>0.792190</td>\n",
              "      <td>1.454080</td>\n",
              "    </tr>\n",
              "    <tr>\n",
              "      <th>15</th>\n",
              "      <td>KNNWithZScore</td>\n",
              "      <td>log_scaled</td>\n",
              "      <td>0.379696</td>\n",
              "      <td>0.559705</td>\n",
              "      <td>0.793606</td>\n",
              "      <td>1.547361</td>\n",
              "    </tr>\n",
              "    <tr>\n",
              "      <th>3</th>\n",
              "      <td>CoClustering</td>\n",
              "      <td>log_scaled</td>\n",
              "      <td>2.134368</td>\n",
              "      <td>0.709443</td>\n",
              "      <td>0.977918</td>\n",
              "      <td>0.122084</td>\n",
              "    </tr>\n",
              "    <tr>\n",
              "      <th>9</th>\n",
              "      <td>KNNBasic</td>\n",
              "      <td>log_scaled</td>\n",
              "      <td>0.280312</td>\n",
              "      <td>0.795559</td>\n",
              "      <td>1.087247</td>\n",
              "      <td>1.399159</td>\n",
              "    </tr>\n",
              "    <tr>\n",
              "      <th>18</th>\n",
              "      <td>NormalPredictor</td>\n",
              "      <td>log_scaled</td>\n",
              "      <td>0.099651</td>\n",
              "      <td>1.332868</td>\n",
              "      <td>1.694466</td>\n",
              "      <td>0.159977</td>\n",
              "    </tr>\n",
              "    <tr>\n",
              "      <th>2</th>\n",
              "      <td>BaselineOnly</td>\n",
              "      <td>user_norm</td>\n",
              "      <td>0.144629</td>\n",
              "      <td>1.111205</td>\n",
              "      <td>1.752040</td>\n",
              "      <td>0.113187</td>\n",
              "    </tr>\n",
              "    <tr>\n",
              "      <th>23</th>\n",
              "      <td>SVD</td>\n",
              "      <td>user_norm</td>\n",
              "      <td>3.892775</td>\n",
              "      <td>1.090575</td>\n",
              "      <td>1.758149</td>\n",
              "      <td>0.161779</td>\n",
              "    </tr>\n",
              "    <tr>\n",
              "      <th>26</th>\n",
              "      <td>SVDpp</td>\n",
              "      <td>user_norm</td>\n",
              "      <td>36.940937</td>\n",
              "      <td>1.132951</td>\n",
              "      <td>1.816074</td>\n",
              "      <td>0.793242</td>\n",
              "    </tr>\n",
              "    <tr>\n",
              "      <th>8</th>\n",
              "      <td>KNNBaseline</td>\n",
              "      <td>user_norm</td>\n",
              "      <td>0.405911</td>\n",
              "      <td>1.142248</td>\n",
              "      <td>1.845987</td>\n",
              "      <td>1.650930</td>\n",
              "    </tr>\n",
              "    <tr>\n",
              "      <th>14</th>\n",
              "      <td>KNNWithMeans</td>\n",
              "      <td>user_norm</td>\n",
              "      <td>0.308147</td>\n",
              "      <td>1.181931</td>\n",
              "      <td>1.874657</td>\n",
              "      <td>1.493850</td>\n",
              "    </tr>\n",
              "    <tr>\n",
              "      <th>17</th>\n",
              "      <td>KNNWithZScore</td>\n",
              "      <td>user_norm</td>\n",
              "      <td>0.396251</td>\n",
              "      <td>1.181334</td>\n",
              "      <td>1.902695</td>\n",
              "      <td>1.610903</td>\n",
              "    </tr>\n",
              "    <tr>\n",
              "      <th>5</th>\n",
              "      <td>CoClustering</td>\n",
              "      <td>user_norm</td>\n",
              "      <td>2.300895</td>\n",
              "      <td>1.161166</td>\n",
              "      <td>1.939818</td>\n",
              "      <td>0.127309</td>\n",
              "    </tr>\n",
              "    <tr>\n",
              "      <th>11</th>\n",
              "      <td>KNNBasic</td>\n",
              "      <td>user_norm</td>\n",
              "      <td>0.278796</td>\n",
              "      <td>1.358182</td>\n",
              "      <td>2.061475</td>\n",
              "      <td>1.387456</td>\n",
              "    </tr>\n",
              "    <tr>\n",
              "      <th>20</th>\n",
              "      <td>NormalPredictor</td>\n",
              "      <td>user_norm</td>\n",
              "      <td>0.099998</td>\n",
              "      <td>2.040653</td>\n",
              "      <td>2.736585</td>\n",
              "      <td>0.155847</td>\n",
              "    </tr>\n",
              "  </tbody>\n",
              "</table>\n",
              "</div>"
            ],
            "text/plain": [
              "          algorithm   weight_type   fit_time  test_mae  test_rmse  test_time\n",
              "1      BaselineOnly  minmax_scale   0.132743  0.019778   0.103438   0.107462\n",
              "7       KNNBaseline  minmax_scale   0.400216  0.020023   0.103608   1.699127\n",
              "13     KNNWithMeans  minmax_scale   0.308605  0.021789   0.104091   1.472455\n",
              "25            SVDpp  minmax_scale  36.229042  0.029452   0.105667   0.781669\n",
              "10         KNNBasic  minmax_scale   0.278551  0.022509   0.106072   1.349892\n",
              "16    KNNWithZScore  minmax_scale   0.373103  0.020925   0.110885   1.629698\n",
              "22              SVD  minmax_scale   3.820886  0.043865   0.116026   0.147570\n",
              "4      CoClustering  minmax_scale   2.103077  0.022677   0.118479   0.080075\n",
              "19  NormalPredictor  minmax_scale   0.096028  0.059396   0.130394   0.149555\n",
              "24            SVDpp    log_scaled  36.280566  0.469442   0.637945   0.801269\n",
              "21              SVD    log_scaled   3.815338  0.482408   0.654872   0.149267\n",
              "0      BaselineOnly    log_scaled   0.137181  0.521222   0.703319   0.109165\n",
              "6       KNNBaseline    log_scaled   0.406551  0.532467   0.714606   1.671129\n",
              "12     KNNWithMeans    log_scaled   0.315505  0.563028   0.792190   1.454080\n",
              "15    KNNWithZScore    log_scaled   0.379696  0.559705   0.793606   1.547361\n",
              "3      CoClustering    log_scaled   2.134368  0.709443   0.977918   0.122084\n",
              "9          KNNBasic    log_scaled   0.280312  0.795559   1.087247   1.399159\n",
              "18  NormalPredictor    log_scaled   0.099651  1.332868   1.694466   0.159977\n",
              "2      BaselineOnly     user_norm   0.144629  1.111205   1.752040   0.113187\n",
              "23              SVD     user_norm   3.892775  1.090575   1.758149   0.161779\n",
              "26            SVDpp     user_norm  36.940937  1.132951   1.816074   0.793242\n",
              "8       KNNBaseline     user_norm   0.405911  1.142248   1.845987   1.650930\n",
              "14     KNNWithMeans     user_norm   0.308147  1.181931   1.874657   1.493850\n",
              "17    KNNWithZScore     user_norm   0.396251  1.181334   1.902695   1.610903\n",
              "5      CoClustering     user_norm   2.300895  1.161166   1.939818   0.127309\n",
              "11         KNNBasic     user_norm   0.278796  1.358182   2.061475   1.387456\n",
              "20  NormalPredictor     user_norm   0.099998  2.040653   2.736585   0.155847"
            ]
          },
          "metadata": {
            "tags": []
          },
          "execution_count": 56
        }
      ]
    }
  ]
}